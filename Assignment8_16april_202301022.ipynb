{
  "nbformat": 4,
  "nbformat_minor": 0,
  "metadata": {
    "colab": {
      "provenance": [],
      "authorship_tag": "ABX9TyNfLn3ZwiBy532tdPBdUMMR",
      "include_colab_link": true
    },
    "kernelspec": {
      "name": "python3",
      "display_name": "Python 3"
    },
    "language_info": {
      "name": "python"
    }
  },
  "cells": [
    {
      "cell_type": "markdown",
      "metadata": {
        "id": "view-in-github",
        "colab_type": "text"
      },
      "source": [
        "<a href=\"https://colab.research.google.com/github/noorchawla/big-data-_assignments/blob/main/Assignment8_16april_202301022.ipynb\" target=\"_parent\"><img src=\"https://colab.research.google.com/assets/colab-badge.svg\" alt=\"Open In Colab\"/></a>"
      ]
    },
    {
      "cell_type": "code",
      "source": [
        "# Implement multiple Linear Regression in Python:\n",
        "\n",
        "# Manual method:\n",
        "\n",
        "def mlr_function(independent1, independent2):\n",
        "    return round(b0 + b1 * independent1 + b2 * independent2, 3)\n",
        "\n",
        "y = [140, 155, 159, 179, 192, 200, 212, 215]\n",
        "x1 = [60, 62, 67, 70, 71, 72, 75, 78]\n",
        "x2 = [22, 25, 24, 20, 15, 14, 14, 11]\n",
        "\n",
        "n = len(y)\n",
        "y_mean = sum(y) / n\n",
        "x1_mean = sum(x1) / n\n",
        "x2_mean = sum(x2) / n\n",
        "\n",
        "# Step 1: Calculate x,3, x,, x,y, x,y and x, x2\n",
        "x1_squares = [num ** 2 for num in x1]\n",
        "x2_squares = [num ** 2 for num in x2]\n",
        "x1_y = [x1[i] * y[i] for i in range(n)]\n",
        "x2_y = [x2[i] * y[i] for i in range(n)]\n",
        "x1_x2 = [x1[i] * x2[i] for i in range(n)]\n",
        "\n",
        "# Step 2: Calculate Regression Sums\n",
        "sum_X1_sq = sum(x1_squares) - (sum(x1) ** 2) / n\n",
        "sum_X2_sq = sum(x2_squares) - (sum(x2) ** 2) / n\n",
        "sum_X1_Y = sum(x1_y) - (sum(x1) * sum(y)) / n\n",
        "sum_X2_Y = sum(x2_y) - (sum(x2) * sum(y)) / n\n",
        "sum_X1_X2 = sum(x1_x2) - (sum(x1) * sum(x2)) / n\n",
        "\n",
        "print(sum_X1_sq, sum_X2_sq, sum_X1_Y, sum_X2_Y, sum_X1_X2)\n",
        "\n",
        "b1 = (sum_X2_sq * sum_X1_Y -  sum_X1_X2 * sum_X2_Y) / (sum_X1_sq * sum_X2_sq - sum_X1_X2 ** 2)\n",
        "b2 = (sum_X1_sq * sum_X2_Y -  sum_X1_X2 * sum_X1_Y) / (sum_X1_sq * sum_X2_sq - sum_X1_X2 ** 2)\n",
        "b0 = y_mean - (b1 * x1_mean) - (b2 * x2_mean)\n",
        "print(f\"b0 = {b0} | b1 = {b1} | b2 = {b2}\")\n",
        "print(f\"Thus the MLR equation is: y = {round(b0, 3)} + {round(b1, 3)} x1 + {round(b2, 3)} x2\")\n",
        "\n",
        "independent1, independent2 = [float(input(f\"Enter the independent variable {i} \")) for i in range(1,3)]\n",
        "# print(independent1, independent2)\n",
        "# print(f\"The corresponding y is: {round(b0 + b1 * independent1 + b2 * independent2, 3)}\")\n",
        "print(f\"The corresponding y is: {mlr_function(independent1, independent2)}\")\n"
      ],
      "metadata": {
        "colab": {
          "base_uri": "https://localhost:8080/"
        },
        "id": "NQceAFD2hxt3",
        "outputId": "eb888ecd-2115-429e-e462-d98dc22d3b08"
      },
      "execution_count": 3,
      "outputs": [
        {
          "output_type": "stream",
          "name": "stdout",
          "text": [
            "263.875 194.875 1162.5 -953.5 -200.375\n",
            "b0 = -6.867487247726768 | b1 = 3.147893102683522 | b2 = -1.6561432690175206\n",
            "Thus the MLR equation is: y = -6.867 + 3.148 x1 + -1.656 x2\n",
            "Enter the independent variable 1 112\n",
            "Enter the independent variable 2 113\n",
            "The corresponding y is: 158.552\n"
          ]
        }
      ]
    },
    {
      "cell_type": "code",
      "source": [
        "# Multiple Linear Regression using libraries:\n",
        "from sklearn.linear_model import LinearRegression\n",
        "from matplotlib import pyplot\n",
        "\n",
        "def slr_function(input_x):\n",
        "    return b0 + b1 * input_x\n",
        "\n",
        "# Assume you have your data in X (independent) and y (dependent)\n",
        "y = [140, 155, 159, 179, 192, 200, 212, 215]\n",
        "x1 = [60, 62, 67, 70, 71, 72, 75, 78]\n",
        "x2 = [22, 25, 24, 20, 15, 14, 14, 11]\n",
        "n = len(y)\n",
        "X = [[x1[i], x2[i]] for i in range(n)]\n",
        "\n",
        "model = LinearRegression()\n",
        "model.fit(X, y)\n",
        "# Here, X is an array of arrays of all dependent variables x1, x2, x3. In this case of Simple Linear Regression,\n",
        "# there's only one per array.\n",
        "b0, [b1, b2] = model.intercept_, model.coef_\n",
        "# [b0, [b1, b2]] = model.intercept_, model.coef_    # JS-ES6 style works too\n",
        "# Here, coefficient is an array since there can be several coefficients in general. In case of Simple Linear\n",
        "# Regression, there's only one ie (b1). In this case of Multiple Linear Regression, there's 2.\n",
        "print(b0, b1, b2)\n",
        "print(f\"The the MLR equation is: y = {round(b0, 3)} + {round(b1, 3)} x1 + {round(b2, 3)} x2\")\n",
        "\n",
        "independent1, independent2 = [float(input(f\"Enter the independent variable {i + 1} \")) for i in range(2)]\n",
        "# print(f\"The corresponding y is: {round(b0 + b1 * independent1 + b2 * independent2, 3)}\")\n",
        "print(f\"The corresponding y is: {mlr_function(independent1, independent2)}\")\n"
      ],
      "metadata": {
        "colab": {
          "base_uri": "https://localhost:8080/"
        },
        "id": "npWT68ZQh7kN",
        "outputId": "05912a5d-3f50-4eeb-bbd2-86214526963e"
      },
      "execution_count": 4,
      "outputs": [
        {
          "output_type": "stream",
          "name": "stdout",
          "text": [
            "-6.867487247726785 3.147893102683522 -1.6561432690175197\n",
            "The the MLR equation is: y = -6.867 + 3.148 x1 + -1.656 x2\n",
            "Enter the independent variable 1 112\n",
            "Enter the independent variable 2 113\n",
            "The corresponding y is: 158.552\n"
          ]
        }
      ]
    }
  ]
}