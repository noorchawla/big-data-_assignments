{
  "nbformat": 4,
  "nbformat_minor": 0,
  "metadata": {
    "colab": {
      "provenance": [],
      "authorship_tag": "ABX9TyPSSGyG/rlJ2zIRBoykMkrm",
      "include_colab_link": true
    },
    "kernelspec": {
      "name": "python3",
      "display_name": "Python 3"
    },
    "language_info": {
      "name": "python"
    }
  },
  "cells": [
    {
      "cell_type": "markdown",
      "metadata": {
        "id": "view-in-github",
        "colab_type": "text"
      },
      "source": [
        "<a href=\"https://colab.research.google.com/github/noorchawla/big-data-_assignments/blob/main/Assignment7_202301022_10April2024.ipynb\" target=\"_parent\"><img src=\"https://colab.research.google.com/assets/colab-badge.svg\" alt=\"Open In Colab\"/></a>"
      ]
    },
    {
      "cell_type": "code",
      "source": [
        "# Simple Linear Regression manually (using mean deviation method):\n",
        "def slr_function(input_x):\n",
        "    return b0 + b1 * input_x\n",
        "\n",
        "x = [2, 4, 6, 8]\n",
        "y = [3, 7, 5, 10]\n",
        "\n",
        "x_mean = sum(x) / len(x)\n",
        "y_mean = sum(y) / len(y)\n",
        "\n",
        "mean_deviation_x = [num - x_mean for num in x]\n",
        "mean_deviation_y = [num - y_mean for num in y]\n",
        "\n",
        "product_mean_dev = [mean_deviation_x[i] * mean_deviation_y[i] for i in range(len(mean_deviation_x))]\n",
        "sq_mean_deviation_x = [num ** 2 for num in mean_deviation_x]\n",
        "\n",
        "b1 = sum(product_mean_dev) / sum(sq_mean_deviation_x)\n",
        "b0 = y_mean - b1 * x_mean\n",
        "\n",
        "print(f\"Y-intercept, b0 = {b0} | Slope, b1 = {b1}\")\n",
        "print(f\"Thus, the equation is: y = {b0} + {b1}x\")\n",
        "\n",
        "input_x = float(input(\"Enter the value of x:\"))\n",
        "# print(f\"The value of y is: {b0 + b1 * input_x}\")\n",
        "print(f\"The value of y is: {slr_function(input_x)}\")"
      ],
      "metadata": {
        "colab": {
          "base_uri": "https://localhost:8080/"
        },
        "id": "pVkgwY3s9RSz",
        "outputId": "8e5b3f2c-c210-4c7f-a52f-e3b9fd170ecf"
      },
      "execution_count": 2,
      "outputs": [
        {
          "output_type": "stream",
          "name": "stdout",
          "text": [
            "Y-intercept, b0 = 1.5 | Slope, b1 = 0.95\n",
            "Thus, the equation is: y = 1.5 + 0.95x\n",
            "Enter the value of x:2\n",
            "The value of y is: 3.4\n"
          ]
        }
      ]
    },
    {
      "cell_type": "code",
      "source": [
        "# Simple Linear Regression Manually (Using method as in PDF):\n",
        "def slr_function(input_x):\n",
        "    return a + b * input_x\n",
        "\n",
        "x = [2, 4, 6, 8]\n",
        "y = [3, 7, 5, 10]\n",
        "n = len(x)\n",
        "\n",
        "xy = [x[i] * y[i] for i in range(n)]\n",
        "# sq_x = [num ** 2 for num in x]\n",
        "squares_x = list(map(lambda num: num ** 2, x))\n",
        "sum_x = sum(x)\n",
        "sum_y = sum(y)\n",
        "sum_xy = sum(xy)\n",
        "sum_sq_x = sum(squares_x)\n",
        "\n",
        "a = (sum_y * sum_sq_x - sum_x * sum_xy) / (n * sum_sq_x - sum_x ** 2)\n",
        "b = (n * sum_xy - sum_x * sum_y) / (n * sum_sq_x - sum_x ** 2)\n",
        "\n",
        "print(f\"Y-intercept, a = {a} | Slope, b = {b}\")\n",
        "print(f\"Thus, the equation is: y = {a} + {b}x\")\n",
        "\n",
        "input_x = float(input(\"Enter the value of x:\"))\n",
        "# print(f\"The value of y is: {a + b * input_x}\")\n",
        "print(f\"The value of y is: {slr_function(input_x)}\")"
      ],
      "metadata": {
        "colab": {
          "base_uri": "https://localhost:8080/"
        },
        "id": "a9Y1ESP89g7R",
        "outputId": "a3ee669a-3ea0-42c5-d6fd-755d42c05ff4"
      },
      "execution_count": 3,
      "outputs": [
        {
          "output_type": "stream",
          "name": "stdout",
          "text": [
            "Y-intercept, a = 1.5 | Slope, b = 0.95\n",
            "Thus, the equation is: y = 1.5 + 0.95x\n",
            "Enter the value of x:3\n",
            "The value of y is: 4.35\n"
          ]
        }
      ]
    },
    {
      "cell_type": "code",
      "source": [
        "# Simple Linear Regression using libraries:\n",
        "from sklearn.linear_model import LinearRegression\n",
        "from matplotlib import pyplot\n",
        "\n",
        "def slr_function(input_x):\n",
        "    return b0 + b1 * input_x\n",
        "\n",
        "# Assume you have your data in X (independent) and y (dependent)\n",
        "x = [2, 4, 6, 8]\n",
        "y = [3, 7, 5, 10]\n",
        "X = [[num] for num in x]\n",
        "\n",
        "model = LinearRegression()\n",
        "model.fit(X, y)\n",
        "# Here, X is an array of arrays of all dependent variables x1, x2, x3. In this case of Simple Linear Regression,\n",
        "# there's only one per array.\n",
        "b0, [b1] = model.intercept_, model.coef_\n",
        "# Here, coefficient is an array since there can be several coefficients in general. In case of Simple Linear\n",
        "# Regression, there's only one ie (b1).\n",
        "print(b0, b1)\n",
        "print(f\"The equation is: y = {b0} + {b1}x\")\n",
        "\n",
        "input_x = float(input(\"Enter an x value:\"))\n",
        "# print(f\"The corresponding y is: {b0 + b1 * input_x}\")\n",
        "print(f\"The corresponding y is: {slr_function(input_x)}\")\n",
        "\n",
        "pyplot.scatter(x, y, color=\"b\") # color b for blue\n",
        "pyplot.plot(x, y, color=\"k\")    # color k for black\n",
        "pyplot.show()"
      ],
      "metadata": {
        "colab": {
          "base_uri": "https://localhost:8080/",
          "height": 503
        },
        "id": "_-6o1mvb9u8C",
        "outputId": "d2b22d8f-8900-4ff7-be0e-cc898e493e1b"
      },
      "execution_count": 4,
      "outputs": [
        {
          "output_type": "stream",
          "name": "stdout",
          "text": [
            "1.5 0.95\n",
            "The equation is: y = 1.5 + 0.95x\n",
            "Enter an x value:3\n",
            "The corresponding y is: 4.35\n"
          ]
        },
        {
          "output_type": "display_data",
          "data": {
            "text/plain": [
              "<Figure size 640x480 with 1 Axes>"
            ],
            "image/png": "[encoded data removed]"
          },
          "metadata": {}
        }
      ]
    }
  ]
}