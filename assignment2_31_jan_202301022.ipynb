{
  "nbformat": 4,
  "nbformat_minor": 0,
  "metadata": {
    "colab": {
      "provenance": [],
      "authorship_tag": "ABX9TyNGwJPjFq+XB0CacZExUy1J",
      "include_colab_link": true
    },
    "kernelspec": {
      "name": "python3",
      "display_name": "Python 3"
    },
    "language_info": {
      "name": "python"
    }
  },
  "cells": [
    {
      "cell_type": "markdown",
      "metadata": {
        "id": "view-in-github",
        "colab_type": "text"
      },
      "source": [
        "<a href=\"https://colab.research.google.com/github/noorchawla/big-data-_assignments/blob/main/assignment2_31_jan_202301022.ipynb\" target=\"_parent\"><img src=\"https://colab.research.google.com/assets/colab-badge.svg\" alt=\"Open In Colab\"/></a>"
      ]
    },
    {
      "cell_type": "code",
      "execution_count": 1,
      "metadata": {
        "colab": {
          "base_uri": "https://localhost:8080/"
        },
        "id": "ruYnPswoPqPy",
        "outputId": "ee11552f-e57e-45d4-ddb4-0bdf8ae7360e"
      },
      "outputs": [
        {
          "output_type": "stream",
          "name": "stdout",
          "text": [
            "Original array: [1 2 3 6 4 5]\n",
            "Reversed array: [5 4 6 3 2 1]\n"
          ]
        }
      ],
      "source": [
        "import numpy as np\n",
        "\n",
        "arr = np.array([1, 2, 3, 6, 4, 5])\n",
        "reversed_arr = np.flip(arr)\n",
        "\n",
        "print(\"Original array:\", arr)\n",
        "print(\"Reversed array:\", reversed_arr)\n"
      ]
    },
    {
      "cell_type": "code",
      "source": [
        "import numpy as np\n",
        "\n",
        "arr1 = np.array([[1, 2], [3, 4]])\n",
        "arr2 = np.array([[1, 2], [3, 4]])\n",
        "\n",
        "are_equal = np.array_equal(arr1, arr2)\n",
        "\n",
        "if are_equal:\n",
        "    print(\"Arrays are equal.\")\n",
        "else:\n",
        "    print(\"Arrays are not equal.\")\n"
      ],
      "metadata": {
        "colab": {
          "base_uri": "https://localhost:8080/"
        },
        "id": "M5emskuDQLR5",
        "outputId": "0b668dbb-8aae-472e-9d32-4e57edf18893"
      },
      "execution_count": 2,
      "outputs": [
        {
          "output_type": "stream",
          "name": "stdout",
          "text": [
            "Arrays are equal.\n"
          ]
        }
      ]
    },
    {
      "cell_type": "code",
      "source": [
        "import numpy as np\n",
        "\n",
        "# Array x\n",
        "x = np.array([1, 2, 3, 4, 5, 1, 2, 1, 1, 1])\n",
        "most_frequent_value_x = np.argmax(np.bincount(x))\n",
        "indices_most_frequent_x = np.where(x == most_frequent_value_x)[0]\n",
        "\n",
        "print(\"Array x:\")\n",
        "print(\"Most frequent value:\", most_frequent_value_x)\n",
        "print(\"Indices of the most frequent value:\", indices_most_frequent_x)\n",
        "\n",
        "# Array y\n",
        "y = np.array([1, 1, 1, 2, 3, 4, 2, 4, 3, 3])\n",
        "most_frequent_value_y = np.argmax(np.bincount(y))\n",
        "indices_most_frequent_y = np.where(y == most_frequent_value_y)[0]\n",
        "\n",
        "print(\"\\nArray y:\")\n",
        "print(\"Most frequent value:\", most_frequent_value_y)\n",
        "print(\"Indices of the most frequent value:\", indices_most_frequent_y)\n"
      ],
      "metadata": {
        "colab": {
          "base_uri": "https://localhost:8080/"
        },
        "id": "bGGwlZReQVgU",
        "outputId": "1b3f6828-dd1a-4fca-9bff-0905b5c62447"
      },
      "execution_count": 3,
      "outputs": [
        {
          "output_type": "stream",
          "name": "stdout",
          "text": [
            "Array x:\n",
            "Most frequent value: 1\n",
            "Indices of the most frequent value: [0 5 7 8 9]\n",
            "\n",
            "Array y:\n",
            "Most frequent value: 1\n",
            "Indices of the most frequent value: [0 1 2]\n"
          ]
        }
      ]
    },
    {
      "cell_type": "code",
      "source": [
        "import numpy as np\n",
        "\n",
        "gfg = np.matrix('4 1 9; 12 3 1; 4 5 6')\n",
        "\n",
        "total_sum = np.sum(gfg)\n",
        "\n",
        "row_sum = np.sum(gfg, axis=1)\n",
        "\n",
        "column_sum = np.sum(gfg, axis=0)\n",
        "\n",
        "print(\"i. Sum of all elements:\", total_sum)\n",
        "print(\"ii. Sum of all elements row-wise:\", row_sum)\n",
        "print(\"iii. Sum of all elements column-wise:\", column_sum)\n"
      ],
      "metadata": {
        "colab": {
          "base_uri": "https://localhost:8080/"
        },
        "id": "tEJ84l7mQpVZ",
        "outputId": "89da690a-2877-4179-d0f4-561a934bf311"
      },
      "execution_count": 4,
      "outputs": [
        {
          "output_type": "stream",
          "name": "stdout",
          "text": [
            "i. Sum of all elements: 45\n",
            "ii. Sum of all elements row-wise: [[14]\n",
            " [16]\n",
            " [15]]\n",
            "iii. Sum of all elements column-wise: [[20  9 16]]\n"
          ]
        }
      ]
    }
  ]
}