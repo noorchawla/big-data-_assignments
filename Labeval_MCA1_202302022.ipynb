{
  "nbformat": 4,
  "nbformat_minor": 0,
  "metadata": {
    "colab": {
      "provenance": [],
      "authorship_tag": "ABX9TyMVxT8XEQSgjGP3MBpn8gOr",
      "include_colab_link": true
    },
    "kernelspec": {
      "name": "python3",
      "display_name": "Python 3"
    },
    "language_info": {
      "name": "python"
    }
  },
  "cells": [
    {
      "cell_type": "markdown",
      "metadata": {
        "id": "view-in-github",
        "colab_type": "text"
      },
      "source": [
        "<a href=\"https://colab.research.google.com/github/noorchawla/big-data-_assignments/blob/main/Labeval_MCA1_202302022.ipynb\" target=\"_parent\"><img src=\"https://colab.research.google.com/assets/colab-badge.svg\" alt=\"Open In Colab\"/></a>"
      ]
    },
    {
      "cell_type": "code",
      "execution_count": null,
      "metadata": {
        "id": "y_3M7DYDtGNV"
      },
      "outputs": [],
      "source": [
        "multiply the following matrices and also find covariance between matrics using Numpy : p=[[1,2],[2,3]]q=[[4,5],[6,7]]\n",
        "\n"
      ]
    },
    {
      "cell_type": "code",
      "source": [
        "import numpy as np\n",
        "\n",
        "# Define matrices\n",
        "p = np.array([[1, 2], [2, 3]])\n",
        "q = np.array([[4, 5], [6, 7]])\n",
        "\n",
        "# Multiply matrices\n",
        "product = np.dot(p, q)\n",
        "print(\"Matrix Product:\")\n",
        "print(product)\n",
        "\n",
        "# Calculate covariance\n",
        "covariance = np.cov(p,q)\n",
        "print(\"\\nCovariance between matrices:\")\n",
        "print(covariance)"
      ],
      "metadata": {
        "colab": {
          "base_uri": "https://localhost:8080/"
        },
        "id": "BSvACE3ExkBL",
        "outputId": "25ed6fe9-803f-4c3a-e7e0-48ed1bed4b6c"
      },
      "execution_count": 3,
      "outputs": [
        {
          "output_type": "stream",
          "name": "stdout",
          "text": [
            "Matrix Product:\n",
            "[[16 19]\n",
            " [26 31]]\n",
            "\n",
            "Covariance between matrices:\n",
            "[[0.5 0.5 0.5 0.5]\n",
            " [0.5 0.5 0.5 0.5]\n",
            " [0.5 0.5 0.5 0.5]\n",
            " [0.5 0.5 0.5 0.5]]\n"
          ]
        }
      ]
    }
  ]
}